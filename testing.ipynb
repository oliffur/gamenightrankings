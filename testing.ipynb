{
 "cells": [
  {
   "cell_type": "code",
   "execution_count": 184,
   "id": "2c2c303a-97fb-47d9-9bc1-d6f957f67772",
   "metadata": {},
   "outputs": [],
   "source": [
    "import numpy as np\n",
    "import pandas as pd\n",
    "from trueskill import TrueSkill\n",
    "\n",
    "class RatingsInfo:\n",
    "    elo = None\n",
    "    wins = None\n",
    "    losses = None\n",
    "    def __init__(self, env):\n",
    "        self.elo = env.create_rating()\n",
    "        self.wins, self.losses = 0, 0\n",
    "\n",
    "def get_elo(d, env, player):\n",
    "    if player not in d: d[player] = RatingsInfo(env)\n",
    "    return d[player].elo\n",
    "\n",
    "def calc_elo(df):\n",
    "    env = TrueSkill(draw_probability=0)\n",
    "    ratings = {}\n",
    "    for idx, row in df.iterrows():\n",
    "        teams = [[get_elo(ratings, env, player) for player in team] for team in row['teams']]\n",
    "        elos = env.rate(teams, row['ranks'])\n",
    "        has_winner = sum(row['ranks']) > 0\n",
    "        for team, team_elos, team_rank in zip(row['teams'], elos, row['ranks']):\n",
    "            for player, player_elo in zip(team, team_elos):\n",
    "                ratings[player].elo = player_elo\n",
    "                if has_winner:\n",
    "                    if team_rank == 0: ratings[player].wins += 1\n",
    "                    else: ratings[player].losses += 1\n",
    "        df.loc[idx, 'elos'] = [elos]\n",
    "    return ratings, df\n",
    "\n",
    "def parse_results():\n",
    "    results = []\n",
    "    with open('results.txt') as f:\n",
    "        for line in f.readlines():\n",
    "            if line.startswith('DATE'): continue\n",
    "            date, game, teams, ranks = line.split('|')\n",
    "            teams, ranks = teams.split(';'), ranks.split(';')\n",
    "            teams = [team.split(',') for team in teams]\n",
    "            ranks = [int(rank) for rank in ranks]\n",
    "            results.append((date, game, teams, ranks))\n",
    "\n",
    "    res_df = pd.DataFrame(results, columns=['date', 'game', 'teams', 'ranks'])\n",
    "\n",
    "    elos = {}\n",
    "    for game in res_df.game.unique():\n",
    "        elos[game] = calc_elo(res_df.loc[res_df.game == game])[0]\n",
    "    return calc_elo(res_df) + (elos,)  # Tuple concatenation\n",
    "\n",
    "def update_readme():\n",
    "    all_ratings, all_df, per_game_ratings = parse_results()\n",
    "\n",
    "    markdown = '''\n",
    "## Game Night Rankings\n",
    "## ![Image](https://media.architecturaldigest.com/photos/618036966ba9675f212cc805/16:9/w_2560%2Cc_limit/SquidGame_Season1_Episode1_00_44_44_16.jpg)'''\n",
    "\n",
    "    markdown += '''\n",
    "### Total Rankings\n",
    "\n",
    "| Player | ELO | Wins | Losses | Win % | Best Game |\n",
    "| --- | --- | --- | --- | --- |'''\n",
    "\n",
    "    best_game = {}\n",
    "    for game, ratings in per_game_ratings.items():\n",
    "        for player, rating in ratings.items():\n",
    "            if player not in best_game or rating.elo.mu > best_game[player][1]:\n",
    "                best_game[player] = (game, rating.elo.mu)\n",
    "\n",
    "    for player, rating in sorted(all_ratings.items(), key=lambda item: item[1].elo.mu, reverse=True):\n",
    "        markdown += '''\n",
    "| {} | {:.2f} | {} | {} | {:.2f} | {} |'''.format(\n",
    "        player, rating.elo.mu, rating.wins, rating.losses,\n",
    "        rating.wins / (rating.wins + rating.losses), best_game[player][0])\n",
    "\n",
    "    chart_df = pd.DataFrame()\n",
    "    for _, row in all_df.iterrows():\n",
    "        players = list(np.array(row['teams']).flat)\n",
    "        ratings = [elo.mu for elo in np.array(row['elos']).flat]\n",
    "        for player, rating in zip(players, ratings):\n",
    "            chart_df.loc[row['date'], player] = rating\n",
    "    chart_df.ffill(inplace=True)\n",
    "    chart_df.plot.line().legend(loc='lower center', ncol=10, bbox_to_anchor=(0.5, -0.3))\n",
    "    plt.pyplot.savefig('rankings.png')\n",
    "\n",
    "    markdown += '''\n",
    "## ![Image](rankings.png)'''\n",
    "    \n",
    "    for game, ratings in per_game_ratings.items():\n",
    "        markdown += '''\n",
    "### {}\n",
    "\n",
    "| Player | ELO | Wins | Losses | Win % |\n",
    "| --- | --- | --- | --- | --- |'''.format(game)\n",
    "        for player, rating in sorted(ratings.items(), key=lambda item: item[1].elo.mu, reverse=True):\n",
    "            markdown += '''\n",
    "| {} | {}  | {} | {} | {:.2f} |'''.format(\n",
    "            player, rating.elo.mu, rating.wins, rating.losses,\n",
    "            rating.wins / (rating.wins + rating.losses))\n",
    "\n",
    "    with open('README.md', 'w') as f:\n",
    "        f.write(markdown)\n",
    " \n"
   ]
  },
  {
   "cell_type": "code",
   "execution_count": 185,
   "id": "1061e7d0-38af-43fe-b5aa-8502cfe0962c",
   "metadata": {},
   "outputs": [
    {
     "name": "stderr",
     "output_type": "stream",
     "text": [
      "/Users/olives/.local/share/virtualenvs/gamenightrankings-1Cza9sBa/lib/python3.8/site-packages/pandas/core/indexing.py:1684: SettingWithCopyWarning: \n",
      "A value is trying to be set on a copy of a slice from a DataFrame.\n",
      "Try using .loc[row_indexer,col_indexer] = value instead\n",
      "\n",
      "See the caveats in the documentation: https://pandas.pydata.org/pandas-docs/stable/user_guide/indexing.html#returning-a-view-versus-a-copy\n",
      "  self.obj[key] = infer_fill_value(value)\n",
      "/Users/olives/.local/share/virtualenvs/gamenightrankings-1Cza9sBa/lib/python3.8/site-packages/pandas/core/indexing.py:1797: SettingWithCopyWarning: \n",
      "A value is trying to be set on a copy of a slice from a DataFrame.\n",
      "Try using .loc[row_indexer,col_indexer] = value instead\n",
      "\n",
      "See the caveats in the documentation: https://pandas.pydata.org/pandas-docs/stable/user_guide/indexing.html#returning-a-view-versus-a-copy\n",
      "  self._setitem_single_column(loc, v, pi)\n"
     ]
    },
    {
     "data": {
      "image/png": "[encoded data removed]",
      "text/plain": [
       "<Figure size 432x288 with 1 Axes>"
      ]
     },
     "metadata": {
      "needs_background": "light"
     },
     "output_type": "display_data"
    }
   ],
   "source": [
    "update_readme()"
   ]
  }
 ],
 "metadata": {
  "kernelspec": {
   "display_name": "Python 3 (ipykernel)",
   "language": "python",
   "name": "python3"
  },
  "language_info": {
   "codemirror_mode": {
    "name": "ipython",
    "version": 3
   },
   "file_extension": ".py",
   "mimetype": "text/x-python",
   "name": "python",
   "nbconvert_exporter": "python",
   "pygments_lexer": "ipython3",
   "version": "3.8.2"
  }
 },
 "nbformat": 4,
 "nbformat_minor": 5
}
